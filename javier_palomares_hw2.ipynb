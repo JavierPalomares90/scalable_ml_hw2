{
 "cells": [
  {
   "cell_type": "markdown",
   "metadata": {},
   "source": [
    "# Scalable Machine Learning HW2\n",
    "## Javier Palomares\n",
    "\n",
    "#### Problem 1: Convolutions\n",
    "1. Compute the output of a 1D convolution layer if the input is a single-channel vector [1,-1,3,4,4]\n",
    "and the kernal is [1,1] for stride =1 and padding =0."
   ]
  },
  {
   "cell_type": "code",
   "execution_count": 24,
   "metadata": {},
   "outputs": [],
   "source": [
    "vector = [1,-1,3,4,4]\n",
    "kernel = [1,1]\n",
    "stride = 1\n",
    "padding = 0"
   ]
  },
  {
   "cell_type": "code",
   "execution_count": 25,
   "metadata": {},
   "outputs": [],
   "source": [
    "# helper method to pad vectors\n",
    "def pad_vector(v,padding):\n",
    "    l = len(v)\n",
    "    new_dim = l + 2*padding\n",
    "    vec = [0] * new_dim\n",
    "    vec[padding:padding+l] = v\n",
    "    return vec\n",
    "\n",
    "# helper method to compute the convolution\n",
    "def convolve(vector,kernel,stride):\n",
    "    import numpy as np\n",
    "    index = 0\n",
    "    # length of vector\n",
    "    l = len(vector)\n",
    "    # length of kerner\n",
    "    kl = len(kernel)\n",
    "    conv = [0] * (l - kl + 1)\n",
    "    i = 0\n",
    "    while (index < l-stride):\n",
    "        v = vector[index:index+kl]\n",
    "        conv[i] = np.dot(v,kernel)\n",
    "        index = index + stride\n",
    "        i = i + 1\n",
    "    return conv"
   ]
  },
  {
   "cell_type": "code",
   "execution_count": 26,
   "metadata": {},
   "outputs": [
    {
     "data": {
      "text/plain": [
       "[0, 2, 7, 8]"
      ]
     },
     "execution_count": 26,
     "metadata": {},
     "output_type": "execute_result"
    }
   ],
   "source": [
    "convolve(pad_vector(vector,padding),kernel,stride)"
   ]
  },
  {
   "cell_type": "markdown",
   "metadata": {},
   "source": [
    "2. Compute the output of a 1D convolution layer if the input is a single-channel vector [1,-1,3,4,4]\n",
    "and the kernal is [1,-1] for stride =1 and padding =1 (padding one means on both sides)"
   ]
  },
  {
   "cell_type": "code",
   "execution_count": 4,
   "metadata": {},
   "outputs": [
    {
     "data": {
      "text/plain": [
       "[1, 0, 2, 7, 8, 4]"
      ]
     },
     "execution_count": 4,
     "metadata": {},
     "output_type": "execute_result"
    }
   ],
   "source": [
    "vector = [1,-1,3,4,4]\n",
    "kernel = [1,1]\n",
    "stride = 1\n",
    "padding = 1\n",
    "convolve(pad_vector(vector,padding),kernel,stride)"
   ]
  },
  {
   "cell_type": "markdown",
   "metadata": {},
   "source": [
    "3. Write pytorch code that computes these outputs. Create the corresponding tensors and use\n",
    "torch.nn.Conv1d and ConvTranspose1d."
   ]
  },
  {
   "cell_type": "code",
   "execution_count": 26,
   "metadata": {},
   "outputs": [
    {
     "data": {
      "text/plain": [
       "tensor([[[0., 2., 7., 8.]]], grad_fn=<SqueezeBackward1>)"
      ]
     },
     "execution_count": 26,
     "metadata": {},
     "output_type": "execute_result"
    }
   ],
   "source": [
    "import torch\n",
    "import torch.nn as nn\n",
    "vector = [1,-1,3,4,4]\n",
    "kernel = [1,1]\n",
    "t = torch.Tensor([[[1,-1,3,4,4]]])\n",
    "conv = nn.Conv1d(in_channels=1,out_channels=1,kernel_size=2,stride=1,padding=0,bias=False)\n",
    "conv.weight.data = torch.ones(1,1,2)\n",
    "y=conv(t)\n",
    "y"
   ]
  },
  {
   "cell_type": "code",
   "execution_count": 27,
   "metadata": {},
   "outputs": [
    {
     "data": {
      "text/plain": [
       "tensor([[[1., 0., 2., 7., 8., 4.]]], grad_fn=<SqueezeBackward1>)"
      ]
     },
     "execution_count": 27,
     "metadata": {},
     "output_type": "execute_result"
    }
   ],
   "source": [
    "import torch\n",
    "import torch.nn as nn\n",
    "vector = [1,-1,3,4,4]\n",
    "kernel = [1,1]\n",
    "t = torch.Tensor([[[1,-1,3,4,4]]])\n",
    "conv = nn.Conv1d(in_channels=1,out_channels=1,kernel_size=2,stride=1,padding=1,bias=False)\n",
    "conv.weight.data = torch.ones(1,1,2)\n",
    "y=conv(t)\n",
    "y"
   ]
  },
  {
   "cell_type": "markdown",
   "metadata": {},
   "source": [
    "### Problem 2: Training a CIFAR-10 CNN classifer\n",
    "\n",
    "In this problem we will follow a tutorial to build a Convolutional neural network that classifies\n",
    "images from the CIFAR-10 dataset and then modify it.\n",
    "\n",
    "1. Start by implementing and running this tutorial. https://www.stefanfiott.com/machine-learning/cifar-10-classifier-using-cnn-in-pytorch/ Show the accuracy you get and also the\n",
    "confusion matrix you obtain for the 10 classes."
   ]
  },
  {
   "cell_type": "markdown",
   "metadata": {},
   "source": [
    "CIFAR-10\n",
    "The CIFAR-10 data set is composed of 60,000 32x32 colour images, 6,000 images per class, so 10 categories in total. The training set is made up of 50,000 images, while the remaining 10,000 make up the testing set.\n",
    "\n",
    "The categories are: airplane, automobile, bird, cat, deer, dog, frog, horse, ship and truck."
   ]
  },
  {
   "cell_type": "code",
   "execution_count": 2,
   "metadata": {},
   "outputs": [],
   "source": [
    "import torch\n",
    "import torchvision\n",
    "import torchvision.transforms as transforms"
   ]
  },
  {
   "cell_type": "code",
   "execution_count": 3,
   "metadata": {},
   "outputs": [
    {
     "name": "stdout",
     "output_type": "stream",
     "text": [
      "Files already downloaded and verified\n",
      "Files already downloaded and verified\n"
     ]
    }
   ],
   "source": [
    "# This is the two-step process used to prepare the\n",
    "# data for use with the convolutional neural network.\n",
    "\n",
    "# First step is to convert Python Image Library (PIL) format\n",
    "# to PyTorch tensors.\n",
    "\n",
    "# Second step is used to normalize the data by specifying a \n",
    "# mean and standard deviation for each of the three channels.\n",
    "# This will convert the data from [0,1] to [-1,1]\n",
    "\n",
    "# Normalization of data should help speed up conversion and\n",
    "# reduce the chance of vanishing gradients with certain \n",
    "# activation functions.\n",
    "transform = transforms.Compose(\n",
    "    [transforms.ToTensor(),\n",
    "     transforms.Normalize((0.5, 0.5, 0.5), (0.5, 0.5, 0.5))])\n",
    "\n",
    "trainset = torchvision.datasets.CIFAR10(root='./data', \n",
    "                                        train=True,\n",
    "                                        download=True, \n",
    "                                        transform=transform)\n",
    "trainloader = torch.utils.data.DataLoader(trainset, \n",
    "                                          batch_size=4,\n",
    "                                          shuffle=True)\n",
    "\n",
    "testset = torchvision.datasets.CIFAR10(root='./data', \n",
    "                                       train=False,\n",
    "                                       download=True, \n",
    "                                       transform=transform)\n",
    "testloader = torch.utils.data.DataLoader(testset, \n",
    "                                         batch_size=4,\n",
    "                                         shuffle=False)\n",
    "\n",
    "classes = ('plane', 'car', 'bird', 'cat', 'deer', \n",
    "           'dog', 'frog', 'horse', 'ship', 'truck')"
   ]
  },
  {
   "cell_type": "markdown",
   "metadata": {},
   "source": [
    "Using the trainloader we will now get a random batch of 4 training images and plot them to see what CIFAR-10 images look like."
   ]
  },
  {
   "cell_type": "code",
   "execution_count": 4,
   "metadata": {},
   "outputs": [],
   "source": [
    "import matplotlib.pyplot as plt\n",
    "import numpy as np\n",
    "\n",
    "def convert_to_imshow_format(image):\n",
    "    # first convert back to [0,1] range from [-1,1] range\n",
    "    image = image / 2 + 0.5\n",
    "    image = image.numpy()\n",
    "    # convert from CHW to HWC\n",
    "    # from 3x32x32 to 32x32x3\n",
    "    return image.transpose(1,2,0)"
   ]
  },
  {
   "cell_type": "code",
   "execution_count": 16,
   "metadata": {},
   "outputs": [
    {
     "data": {
      "image/png": "[encoded data removed]",
      "text/plain": [
       "<Figure size 864x180 with 4 Axes>"
      ]
     },
     "metadata": {},
     "output_type": "display_data"
    }
   ],
   "source": [
    "dataiter = iter(trainloader)\n",
    "images, labels = dataiter.next()\n",
    "\n",
    "fig, axes = plt.subplots(1, len(images), figsize=(12,2.5))\n",
    "for idx, image in enumerate(images):\n",
    "    axes[idx].imshow(convert_to_imshow_format(image))\n",
    "    axes[idx].set_title(classes[labels[idx]])\n",
    "    axes[idx].set_xticks([])\n",
    "    axes[idx].set_yticks([])"
   ]
  },
  {
   "cell_type": "markdown",
   "metadata": {},
   "source": [
    "#### Defining the Convolutional Neural Network\n",
    "Layer Dimensions\n",
    "Input Size\n",
    "The images are 3x32x32, i.e., 3 channels (red, green, blue) each of size 32x32 pixels.\n",
    "\n",
    "First Convolutional Layer\n",
    "The first convolutional layer expects 3 input channels and will convolve 6 filters each of size 3x5x5. Since padding is set to 0 and stride is set to 1, the output size is 6x28x28, because \n",
    "(\n",
    "32\n",
    "−\n",
    "5\n",
    ")\n",
    "+\n",
    "1\n",
    "=\n",
    "28\n",
    ". This layer therefore has \n",
    "(\n",
    "(\n",
    "5\n",
    "×\n",
    "5\n",
    "×\n",
    "3\n",
    ")\n",
    "+\n",
    "1\n",
    ")\n",
    "×\n",
    "6\n",
    "=\n",
    "456\n",
    " parameters.\n",
    "\n",
    "First Max-Pooling Layer\n",
    "The first down-sampling layer uses max pooling with a 2x2 kernel and stride set to 2. This effectively drops the size from 6x28x28 to 6x14x14.\n",
    "\n",
    "Second Convolutional Layer\n",
    "The second convolutional layers expects 6 input channels and will convolve 16 filters each of size 6x5x5. Since padding is set to 0 and stride is set to 1, the output size is 16x10x10, because \n",
    "(\n",
    "14\n",
    "−\n",
    "5\n",
    ")\n",
    "+\n",
    "1\n",
    "=\n",
    "10\n",
    ". This layer therefore has \n",
    "(\n",
    "(\n",
    "5\n",
    "×\n",
    "5\n",
    "×\n",
    "6\n",
    ")\n",
    "+\n",
    "1\n",
    ")\n",
    "×\n",
    "16\n",
    "=\n",
    "2416\n",
    " parameters.\n",
    "\n",
    "Second Max-Pooling Layer\n",
    "The second down-sampling layer uses max pooling with a 2x2 kernel and stride set to 2. This effectively drops the size from 16x10x10 to 16x5x5.\n",
    "\n",
    "First Fully-Connected Layer\n",
    "The output from the final max pooling layer needs to be flattened so that we can connect it to a fully connected layer. This is achieved using the torch.Tensor.view method. By specifying -1 the method will automatically infer the number of rows required. This is done to handle the mini-batch size of data.\n",
    "\n",
    "The fully-connected layer uses ReLU for activation and has 120 nodes, thus in total it needs \n",
    "(\n",
    "(\n",
    "16\n",
    "×\n",
    "5\n",
    "×\n",
    "5\n",
    ")\n",
    "+\n",
    "1\n",
    ")\n",
    "×\n",
    "120\n",
    "=\n",
    "48120\n",
    " parameters.\n",
    "\n",
    "Second Fully-Connected Layer\n",
    "The output from the first fully-connected layer is connected to another fully connected layer with 84 nodes, using ReLU as an activation function. This layer thus needs \n",
    "(\n",
    "120\n",
    "+\n",
    "1\n",
    ")\n",
    "×\n",
    "84\n",
    "=\n",
    "10164\n",
    " parameters.\n",
    "\n",
    "Output Layer\n",
    "The last fully-connected layer uses softmax and is made up of ten nodes, one for each category in CIFAR-10. This layer requires \n",
    "(\n",
    "84\n",
    "+\n",
    "1\n",
    ")\n",
    "×\n",
    "10\n",
    "=\n",
    "850\n",
    " parameters.\n",
    "\n",
    "Total Network Parameters\n",
    "This convolutional neural network has a total of \n",
    "456\n",
    "+\n",
    "2416\n",
    "+\n",
    "48120\n",
    "+\n",
    "10164\n",
    "+\n",
    "850\n",
    "=\n",
    "62006\n",
    " parameters."
   ]
  },
  {
   "cell_type": "code",
   "execution_count": 5,
   "metadata": {},
   "outputs": [],
   "source": [
    "import torch.nn as nn\n",
    "import torch.nn.functional as F\n",
    "\n",
    "class Net(nn.Module):\n",
    "    def __init__(self):\n",
    "        super(Net, self).__init__()\n",
    "        self.conv1 = nn.Conv2d(3, 6, 5)\n",
    "        self.pool = nn.MaxPool2d(2, 2)\n",
    "        self.conv2 = nn.Conv2d(6, 16, 5)\n",
    "        self.fc1 = nn.Linear(16 * 5 * 5, 120)\n",
    "        self.fc2 = nn.Linear(120, 84)\n",
    "        self.fc3 = nn.Linear(84, 10)\n",
    "\n",
    "    def forward(self, x):\n",
    "        x = self.pool(F.relu(self.conv1(x)))\n",
    "        x = self.pool(F.relu(self.conv2(x)))\n",
    "        x = x.view(-1, 16 * 5 * 5)\n",
    "        x = F.relu(self.fc1(x))\n",
    "        x = F.relu(self.fc2(x))\n",
    "        x = self.fc3(x)\n",
    "        return x\n",
    "    \n",
    "net = Net()"
   ]
  },
  {
   "cell_type": "markdown",
   "metadata": {},
   "source": [
    "#### Defining the Loss Function and Optimizer\n",
    "Since we are classifying images into more than two classes we will use cross-entropy as a loss function. To optimize the network we will employ stochastic gradient descent (SGD) with momentum to help get us over local minima and saddle points in the loss function space.\n"
   ]
  },
  {
   "cell_type": "code",
   "execution_count": 32,
   "metadata": {},
   "outputs": [],
   "source": [
    "import torch.optim as optim\n",
    "\n",
    "criterion = nn.CrossEntropyLoss()\n",
    "optimizer = optim.SGD(net.parameters(), lr=0.001, momentum=0.9)"
   ]
  },
  {
   "cell_type": "markdown",
   "metadata": {},
   "source": [
    "#### Training the Network\n",
    "We will now train the network using the trainloader data, by going over all the training data in batches of 4 images, and repeating the whole process 2 times, i.e., 2 epochs. Every 2000 batches we report on training progress by printing the current epoch and batch number along with the running loss value.\n",
    "\n",
    "Once training is complete, we will save the model parameters to disk. This will make it possible to load the model parameters from disk the next time we run this notebook and thus not have to train the model again, saving some time."
   ]
  },
  {
   "cell_type": "code",
   "execution_count": 33,
   "metadata": {},
   "outputs": [
    {
     "name": "stdout",
     "output_type": "stream",
     "text": [
      "Loaded model parameters from disk.\n"
     ]
    }
   ],
   "source": [
    "import os\n",
    "\n",
    "model_directory_path = './model/'\n",
    "model_path = model_directory_path + 'cifar-10-cnn-model.pt'\n",
    "\n",
    "if not os.path.exists(model_directory_path):\n",
    "    os.makedirs(model_directory_path)\n",
    "\n",
    "if os.path.isfile(model_path):\n",
    "    # load trained model parameters from disk\n",
    "    net.load_state_dict(torch.load(model_path))\n",
    "    print('Loaded model parameters from disk.')\n",
    "else:\n",
    "    for epoch in range(2):  # loop over the dataset multiple times\n",
    "\n",
    "        running_loss = 0.0\n",
    "        for i, data in enumerate(trainloader, 0):\n",
    "            # get the inputs\n",
    "            inputs, labels = data\n",
    "\n",
    "            # zero the parameter gradients\n",
    "            optimizer.zero_grad()\n",
    "\n",
    "            # forward + backward + optimize\n",
    "            outputs = net(inputs)\n",
    "            loss = criterion(outputs, labels)\n",
    "            loss.backward()\n",
    "            optimizer.step()\n",
    "\n",
    "            # print statistics\n",
    "            running_loss += loss.item()\n",
    "            if i % 2000 == 1999:    # print every 2000 mini-batches\n",
    "                print('[%d, %5d] loss: %.3f' %\n",
    "                      (epoch + 1, i + 1, running_loss / 2000))\n",
    "                running_loss = 0.0\n",
    "    print('Finished Training.')\n",
    "    torch.save(net.state_dict(), model_path)\n",
    "    print('Saved model parameters to disk.')"
   ]
  },
  {
   "cell_type": "markdown",
   "metadata": {},
   "source": [
    "#### Testing the Network\n",
    "Now that the network is trained we can evaluate how it performs on the testing data set. Let us load four random images from the testing data set and their corresponding labels."
   ]
  },
  {
   "cell_type": "code",
   "execution_count": 9,
   "metadata": {
    "scrolled": true
   },
   "outputs": [
    {
     "data": {
      "image/png": "[encoded data removed]",
      "text/plain": [
       "<Figure size 864x180 with 4 Axes>"
      ]
     },
     "metadata": {},
     "output_type": "display_data"
    }
   ],
   "source": [
    "dataiter = iter(testloader)\n",
    "images, labels = dataiter.next()\n",
    "\n",
    "fig, axes = plt.subplots(1, len(images), figsize=(12,2.5))\n",
    "for idx, image in enumerate(images):\n",
    "    axes[idx].imshow(convert_to_imshow_format(image))\n",
    "    axes[idx].set_title(classes[labels[idx]])\n",
    "    axes[idx].set_xticks([])\n",
    "    axes[idx].set_yticks([])"
   ]
  },
  {
   "cell_type": "markdown",
   "metadata": {},
   "source": [
    "Next, we input the four images to the trained network to get class (label/category) predictions."
   ]
  },
  {
   "cell_type": "code",
   "execution_count": 9,
   "metadata": {},
   "outputs": [],
   "source": [
    "outputs = net(images)"
   ]
  },
  {
   "cell_type": "markdown",
   "metadata": {},
   "source": [
    "The network outputs a 2D tensor (array) of size 4x10, a row for each image and a column for each category. The values are raw outputs from the linear transformation \n",
    "$y=xA^T+b$. The category predicted for each image (row) is thus the column index containing the maximum value in that row."
   ]
  },
  {
   "cell_type": "code",
   "execution_count": 10,
   "metadata": {},
   "outputs": [
    {
     "data": {
      "text/plain": [
       "tensor([[ 0.0814, -1.0313,  0.1324,  1.6268, -1.0405,  1.4920, -0.5321,  0.1193,\n",
       "          1.1703, -0.8127],\n",
       "        [ 6.4250,  7.4903, -1.1478, -4.8682, -4.0141, -6.6786, -5.5872, -4.1999,\n",
       "          7.6590,  5.1888],\n",
       "        [ 2.6594,  3.4164, -1.3975, -1.6951, -3.0255, -3.2068, -2.8390, -1.9887,\n",
       "          4.0607,  3.8383],\n",
       "        [ 4.5211,  2.1350,  0.2246, -2.2300, -1.2561, -4.1714, -3.2491, -2.5702,\n",
       "          5.9149,  1.9628]], grad_fn=<AddmmBackward>)"
      ]
     },
     "execution_count": 10,
     "metadata": {},
     "output_type": "execute_result"
    }
   ],
   "source": [
    "outputs"
   ]
  },
  {
   "cell_type": "markdown",
   "metadata": {},
   "source": [
    "If we prefer to get a probability score, we can use the nn.Softmax function on the raw output as follows."
   ]
  },
  {
   "cell_type": "code",
   "execution_count": 11,
   "metadata": {},
   "outputs": [
    {
     "name": "stdout",
     "output_type": "stream",
     "text": [
      "tensor([[6.0773e-02, 1.9974e-02, 6.3952e-02, 2.8500e-01, 1.9792e-02, 2.4906e-01,\n",
      "         3.2906e-02, 6.3121e-02, 1.8056e-01, 2.4854e-02],\n",
      "        [1.3110e-01, 3.8041e-01, 6.7418e-05, 1.6331e-06, 3.8367e-06, 2.6717e-07,\n",
      "         7.9576e-07, 3.1861e-06, 4.5034e-01, 3.8082e-02],\n",
      "        [9.5296e-02, 2.0316e-01, 1.6489e-03, 1.2245e-03, 3.2373e-04, 2.7005e-04,\n",
      "         3.9010e-04, 9.1290e-04, 3.8697e-01, 3.0980e-01],\n",
      "        [1.9161e-01, 1.7626e-02, 2.6090e-03, 2.2411e-04, 5.9348e-04, 3.2159e-05,\n",
      "         8.0884e-05, 1.5948e-04, 7.7223e-01, 1.4838e-02]],\n",
      "       grad_fn=<SoftmaxBackward>)\n"
     ]
    }
   ],
   "source": [
    "sm = nn.Softmax(dim=1)\n",
    "sm_outputs = sm(outputs)\n",
    "print(sm_outputs)"
   ]
  },
  {
   "cell_type": "markdown",
   "metadata": {},
   "source": [
    "#### Predicted Category for Four Test Images"
   ]
  },
  {
   "cell_type": "code",
   "execution_count": 12,
   "metadata": {},
   "outputs": [
    {
     "name": "stdout",
     "output_type": "stream",
     "text": [
      "cat - 0.2850\n",
      "ship - 0.4503\n",
      "ship - 0.3870\n",
      "ship - 0.7722\n"
     ]
    }
   ],
   "source": [
    "probs, index = torch.max(sm_outputs, dim=1)\n",
    "\n",
    "for p, i in zip(probs, index):\n",
    "    print('{0} - {1:.4f}'.format(classes[i], p))"
   ]
  },
  {
   "cell_type": "markdown",
   "metadata": {},
   "source": [
    "The model got one of the four testing images correct. It correctly categorised the cat and 2 ship images, but misclassified the plane as a ship\n",
    "### Predicting the Category for all Test Images"
   ]
  },
  {
   "cell_type": "code",
   "execution_count": 10,
   "metadata": {},
   "outputs": [
    {
     "name": "stdout",
     "output_type": "stream",
     "text": [
      "Model accuracy on 10000 test images: 54.46%\n"
     ]
    }
   ],
   "source": [
    "total_correct = 0\n",
    "total_images = 0\n",
    "confusion_matrix = np.zeros([10,10], int)\n",
    "with torch.no_grad():\n",
    "    for data in testloader:\n",
    "        images, labels = data\n",
    "        outputs = net(images)\n",
    "        _, predicted = torch.max(outputs.data, 1)\n",
    "        total_images += labels.size(0)\n",
    "        total_correct += (predicted == labels).sum().item()\n",
    "        for i, l in enumerate(labels):\n",
    "            confusion_matrix[l.item(), predicted[i].item()] += 1 \n",
    "\n",
    "model_accuracy = total_correct / total_images * 100\n",
    "print('Model accuracy on {0} test images: {1:.2f}%'.format(total_images, model_accuracy))"
   ]
  },
  {
   "cell_type": "markdown",
   "metadata": {},
   "source": [
    "The model performed much better than random guessing, which would give us an accuracy of 10% since there are ten categories in CIFAR-10. Let us now use the confusion matrix to compute the accuracy of the model per category."
   ]
  },
  {
   "cell_type": "code",
   "execution_count": 15,
   "metadata": {},
   "outputs": [
    {
     "name": "stdout",
     "output_type": "stream",
     "text": [
      "Category   - Accuracy\n",
      "plane      - 46.7\n",
      "car        - 67.7\n",
      "bird       - 56.6\n",
      "cat        - 21.7\n",
      "deer       - 27.9\n",
      "dog        - 53.1\n",
      "frog       - 49.6\n",
      "horse      - 70.8\n",
      "ship       - 77.9\n",
      "truck      - 72.6\n"
     ]
    }
   ],
   "source": [
    "print('{0:10s} - {1}'.format('Category','Accuracy'))\n",
    "for i, r in enumerate(confusion_matrix):\n",
    "    print('{0:10s} - {1:.1f}'.format(classes[i], r[i]/np.sum(r)*100))"
   ]
  },
  {
   "cell_type": "code",
   "execution_count": 16,
   "metadata": {},
   "outputs": [
    {
     "data": {
      "image/png": "[encoded data removed]",
      "text/plain": [
       "<Figure size 576x432 with 1 Axes>"
      ]
     },
     "metadata": {
      "needs_background": "light"
     },
     "output_type": "display_data"
    }
   ],
   "source": [
    "fig, ax = plt.subplots(1,1,figsize=(8,6))\n",
    "ax.matshow(confusion_matrix, aspect='auto', vmin=0, vmax=1000, cmap=plt.get_cmap('Blues'))\n",
    "plt.ylabel('Actual Category')\n",
    "plt.yticks(range(10), classes)\n",
    "plt.xlabel('Predicted Category')\n",
    "plt.xticks(range(10), classes)\n",
    "plt.show()"
   ]
  },
  {
   "cell_type": "markdown",
   "metadata": {},
   "source": [
    "From the above visualisation we can see that the best accuracy was achieved on the car and ship categories, darkest shades present on the main diagonal. The truck category was most frequently confused with the car category. This is understandable, since they are both vehicles and have some visual similarities. Planes were also commonly confused with bird and ship. This could have something to do with a common background texture and colour, blue for both sky and sea.\n",
    "\n",
    "To understand precisely which categories were most commonly confused, we can print the absolute and relative values of the confusion matrix, as follows."
   ]
  },
  {
   "cell_type": "code",
   "execution_count": 17,
   "metadata": {},
   "outputs": [
    {
     "name": "stdout",
     "output_type": "stream",
     "text": [
      "actual/pred     plane     car       bird      cat       deer      dog       frog      horse     ship      truck     \n",
      "plane           467       45        76        6         17        17        7         27        260       78        \n",
      "                0.467     0.045     0.076     0.006     0.017     0.017     0.007     0.027     0.26      0.078     \n",
      "car             20        677       13        6         1         3         6         8         47        219       \n",
      "                0.02      0.677     0.013     0.006     0.001     0.003     0.006     0.008     0.047     0.219     \n",
      "bird            78        23        566       28        42        81        29        71        58        24        \n",
      "                0.078     0.023     0.566     0.028     0.042     0.081     0.029     0.071     0.058     0.024     \n",
      "cat             18        22        196       217       34        282       55        83        44        49        \n",
      "                0.018     0.022     0.196     0.217     0.034     0.282     0.055     0.083     0.044     0.049     \n",
      "deer            37        17        309       34        279       53        35        188       33        15        \n",
      "                0.037     0.017     0.309     0.034     0.279     0.053     0.035     0.188     0.033     0.015     \n",
      "dog             7         8         183       81        23        531       27        94        25        21        \n",
      "                0.007     0.008     0.183     0.081     0.023     0.531     0.027     0.094     0.025     0.021     \n",
      "frog            5         18        173       61        92        57        496       40        13        45        \n",
      "                0.005     0.018     0.173     0.061     0.092     0.057     0.496     0.04      0.013     0.045     \n",
      "horse           15        7         75        18        31        94        7         708       10        35        \n",
      "                0.015     0.007     0.075     0.018     0.031     0.094     0.007     0.708     0.01      0.035     \n",
      "ship            52        63        17        6         5         11        1         10        779       56        \n",
      "                0.052     0.063     0.017     0.006     0.005     0.011     0.001     0.01      0.779     0.056     \n",
      "truck           17        113       18        11        4         7         10        32        62        726       \n",
      "                0.017     0.113     0.018     0.011     0.004     0.007     0.01      0.032     0.062     0.726     \n"
     ]
    }
   ],
   "source": [
    "print('actual/pred'.ljust(16), end='')\n",
    "for i,c in enumerate(classes):\n",
    "    print(c.ljust(10), end='')\n",
    "print()\n",
    "for i,r in enumerate(confusion_matrix):\n",
    "    print(classes[i].ljust(16), end='')\n",
    "    for idx, p in enumerate(r):\n",
    "        print(str(p).ljust(10), end='')\n",
    "    print()\n",
    "    \n",
    "    r = r/np.sum(r)\n",
    "    print(''.ljust(16), end='')\n",
    "    for idx, p in enumerate(r):\n",
    "        print(str(p).ljust(10), end='')\n",
    "    print()"
   ]
  },
  {
   "cell_type": "markdown",
   "metadata": {},
   "source": [
    "#### Conclusion\n",
    "In this notebook, we trained a simple convolutional neural network using PyTorch on the CIFAR-10 data set. 50,000 images were used for training and 10,000 images were used to evaluate the performance. The model performed well, achieving an accuracy of 52.2% compared to a baseline of 10%, since there are 10 categories in CIFAR-10, if the model guessed randomly.\n",
    "\n",
    "To improve the performance we can try adding convolution layers, more filters or more fully connected layers. We could also train the model for more than two epochs while introducing some form of regularisation, such as dropout or batch normalization, so as not to overfit the training data.\n",
    "\n",
    "Keep in mind that complex models with hundreds of thousands of parameters are computationally more expensive to train and thus you should consider training such models on a GPU enabled machine to speed up the process."
   ]
  },
  {
   "cell_type": "markdown",
   "metadata": {},
   "source": [
    "2.Show the convolutional layer kernels you learned in the first convolutional layer."
   ]
  },
  {
   "cell_type": "code",
   "execution_count": 18,
   "metadata": {},
   "outputs": [],
   "source": [
    "def plot_filters_single_channel(t):\n",
    "    \n",
    "    #kernels depth * number of kernels\n",
    "    nplots = t.shape[0]*t.shape[1]\n",
    "    ncols = 12\n",
    "    \n",
    "    nrows = 1 + nplots//ncols\n",
    "    #convert tensor to numpy image\n",
    "    npimg = np.array(t.numpy(), np.float32)\n",
    "    \n",
    "    count = 0\n",
    "    fig = plt.figure(figsize=(ncols, nrows))\n",
    "    \n",
    "    #looping through all the kernels in each channel\n",
    "    for i in range(t.shape[0]):\n",
    "        for j in range(t.shape[1]):\n",
    "            count += 1\n",
    "            ax1 = fig.add_subplot(nrows, ncols, count)\n",
    "            npimg = np.array(t[i, j].numpy(), np.float32)\n",
    "            npimg = (npimg - np.mean(npimg)) / np.std(npimg)\n",
    "            npimg = np.minimum(1, np.maximum(0, (npimg + 0.5)))\n",
    "            ax1.imshow(npimg)\n",
    "            ax1.set_title(str(i) + ',' + str(j))\n",
    "            ax1.axis('off')\n",
    "            ax1.set_xticklabels([])\n",
    "            ax1.set_yticklabels([])\n",
    "   \n",
    "    plt.tight_layout()\n",
    "    plt.show()\n",
    "    \n",
    "def plot_filters_multi_channel(t):\n",
    "    \n",
    "    #get the number of kernals\n",
    "    num_kernels = t.shape[0]    \n",
    "    \n",
    "    #define number of columns for subplots\n",
    "    num_cols = 12\n",
    "    #rows = num of kernels\n",
    "    num_rows = num_kernels\n",
    "    \n",
    "    #set the figure size\n",
    "    fig = plt.figure(figsize=(num_cols,num_rows))\n",
    "    \n",
    "    #looping through all the kernels\n",
    "    for i in range(t.shape[0]):\n",
    "        ax1 = fig.add_subplot(num_rows,num_cols,i+1)\n",
    "        \n",
    "        #for each kernel, we convert the tensor to numpy \n",
    "        npimg = np.array(t[i].numpy(), np.float32)\n",
    "        #standardize the numpy image\n",
    "        npimg = (npimg - np.mean(npimg)) / np.std(npimg)\n",
    "        npimg = np.minimum(1, np.maximum(0, (npimg + 0.5)))\n",
    "        npimg = npimg.transpose((1, 2, 0))\n",
    "        ax1.imshow(npimg)\n",
    "        ax1.axis('off')\n",
    "        ax1.set_title(str(i))\n",
    "        ax1.set_xticklabels([])\n",
    "        ax1.set_yticklabels([])\n",
    "        \n",
    "    plt.savefig('myimage.png', dpi=100)    \n",
    "    plt.tight_layout()\n",
    "    plt.show()\n",
    "\n",
    "def plot_weights(model, layer_num, single_channel = True, collated = False):\n",
    "  \n",
    "  #extracting the model features at the particular layer number\n",
    "  layer = model.conv1\n",
    "  \n",
    "  #checking whether the layer is convolution layer or not \n",
    "  if isinstance(layer, nn.Conv2d):\n",
    "    #getting the weight tensor data\n",
    "    weight_tensor = model.conv1.weight.data\n",
    "    \n",
    "    if single_channel:\n",
    "      if collated:\n",
    "        plot_filters_single_channel_big(weight_tensor)\n",
    "      else:\n",
    "        plot_filters_single_channel(weight_tensor)\n",
    "        \n",
    "    else:\n",
    "      if weight_tensor.shape[1] == 3:\n",
    "        plot_filters_multi_channel(weight_tensor)\n",
    "      else:\n",
    "        print(\"Can only plot weights with three channels with single channel = False\")\n",
    "        \n",
    "  else:\n",
    "    print(\"Can only visualize layers which are convolutional\")"
   ]
  },
  {
   "cell_type": "code",
   "execution_count": 19,
   "metadata": {},
   "outputs": [
    {
     "data": {
      "image/png": "[encoded data removed]",
      "text/plain": [
       "<Figure size 864x432 with 6 Axes>"
      ]
     },
     "metadata": {
      "needs_background": "light"
     },
     "output_type": "display_data"
    }
   ],
   "source": [
    "#visualize weights for first conv layer\n",
    "plot_weights(net, 0, single_channel = False)"
   ]
  },
  {
   "cell_type": "markdown",
   "metadata": {},
   "source": [
    "3.Replace the architecture with AlexNet (https://github.com/icpm/pytorch-cifar10/blob/master/models/AlexNet.py) and report accuracy. Tune hyperparameters to get the best\n",
    "possible accuracy on a test set."
   ]
  },
  {
   "cell_type": "code",
   "execution_count": 34,
   "metadata": {},
   "outputs": [],
   "source": [
    "NUM_CLASSES = 10\n",
    "\n",
    "\n",
    "class AlexNet(nn.Module):\n",
    "    def __init__(self, num_classes=NUM_CLASSES):\n",
    "        super(AlexNet, self).__init__()\n",
    "        self.features = nn.Sequential(\n",
    "            nn.Conv2d(3, 64, kernel_size=3, stride=2, padding=1),\n",
    "            nn.ReLU(inplace=True),\n",
    "            nn.MaxPool2d(kernel_size=2),\n",
    "            nn.Conv2d(64, 192, kernel_size=3, padding=1),\n",
    "            nn.ReLU(inplace=True),\n",
    "            nn.MaxPool2d(kernel_size=2),\n",
    "            nn.Conv2d(192, 384, kernel_size=3, padding=1),\n",
    "            nn.ReLU(inplace=True),\n",
    "            nn.Conv2d(384, 256, kernel_size=3, padding=1),\n",
    "            nn.ReLU(inplace=True),\n",
    "            nn.Conv2d(256, 256, kernel_size=3, padding=1),\n",
    "            nn.ReLU(inplace=True),\n",
    "            nn.MaxPool2d(kernel_size=2),\n",
    "        )\n",
    "        self.classifier = nn.Sequential(\n",
    "            nn.Dropout(),\n",
    "            nn.Linear(256 * 2 * 2, 4096),\n",
    "            nn.ReLU(inplace=True),\n",
    "            nn.Dropout(),\n",
    "            nn.Linear(4096, 4096),\n",
    "            nn.ReLU(inplace=True),\n",
    "            nn.Linear(4096, num_classes),\n",
    "        )\n",
    "\n",
    "    def forward(self, x):\n",
    "        x = self.features(x)\n",
    "        x = x.view(x.size(0), 256 * 2 * 2)\n",
    "        x = self.classifier(x)\n",
    "        return x"
   ]
  },
  {
   "cell_type": "code",
   "execution_count": 35,
   "metadata": {},
   "outputs": [
    {
     "name": "stdout",
     "output_type": "stream",
     "text": [
      "Loaded model parameters from disk.\n"
     ]
    }
   ],
   "source": [
    "anet = AlexNet()\n",
    "model_directory_path = './alex-net-model/'\n",
    "model_path = model_directory_path + 'cifar-10-cnn-model.pt'\n",
    "criterion = nn.CrossEntropyLoss()\n",
    "optimizer = optim.SGD(anet.parameters(), lr=0.001, momentum=0.9)\n",
    "\n",
    "if not os.path.exists(model_directory_path):\n",
    "    os.makedirs(model_directory_path)\n",
    "\n",
    "if os.path.isfile(model_path):\n",
    "    # load trained model parameters from disk\n",
    "    anet.load_state_dict(torch.load(model_path))\n",
    "    print('Loaded model parameters from disk.')\n",
    "else:\n",
    "    anet.train()\n",
    "    for epoch in range(2):  # loop over the dataset multiple times\n",
    "\n",
    "        running_loss = 0.0\n",
    "        for i, data in enumerate(trainloader, 0):\n",
    "            # get the inputs\n",
    "            inputs, labels = data\n",
    "\n",
    "            # zero the parameter gradients\n",
    "            optimizer.zero_grad()\n",
    "\n",
    "            # forward + backward + optimize\n",
    "            outputs = anet(inputs)\n",
    "            loss = criterion(outputs, labels)\n",
    "            loss.backward()\n",
    "            optimizer.step()\n",
    "\n",
    "            # print statistics\n",
    "            running_loss += loss.item()\n",
    "            if i % 2000 == 1999:    # print every 2000 mini-batches\n",
    "                print('[%d, %5d] loss: %.3f' %\n",
    "                      (epoch + 1, i + 1, running_loss / 2000))\n",
    "                running_loss = 0.0\n",
    "    print('Finished Training.')\n",
    "    torch.save(anet.state_dict(), model_path)\n",
    "    print('Saved model parameters to disk.')\n"
   ]
  },
  {
   "cell_type": "code",
   "execution_count": 36,
   "metadata": {},
   "outputs": [
    {
     "name": "stdout",
     "output_type": "stream",
     "text": [
      "Model accuracy on 10000 test images: 52.92%\n"
     ]
    }
   ],
   "source": [
    "total_correct = 0\n",
    "total_images = 0\n",
    "confusion_matrix = np.zeros([10,10], int)\n",
    "with torch.no_grad():\n",
    "    for data in testloader:\n",
    "        images, labels = data\n",
    "        outputs = anet(images)\n",
    "        _, predicted = torch.max(outputs.data, 1)\n",
    "        total_images += labels.size(0)\n",
    "        total_correct += (predicted == labels).sum().item()\n",
    "        for i, l in enumerate(labels):\n",
    "            confusion_matrix[l.item(), predicted[i].item()] += 1 \n",
    "\n",
    "model_accuracy = total_correct / total_images * 100\n",
    "print('Model accuracy on {0} test images: {1:.2f}%'.format(total_images, model_accuracy))"
   ]
  },
  {
   "cell_type": "code",
   "execution_count": 66,
   "metadata": {},
   "outputs": [
    {
     "name": "stdout",
     "output_type": "stream",
     "text": [
      "Category   - Accuracy\n",
      "plane      - 77.9\n",
      "car        - 77.8\n",
      "bird       - 47.5\n",
      "cat        - 30.4\n",
      "deer       - 37.0\n",
      "dog        - 22.3\n",
      "frog       - 69.2\n",
      "horse      - 56.3\n",
      "ship       - 63.3\n",
      "truck      - 47.4\n"
     ]
    }
   ],
   "source": [
    "print('{0:10s} - {1}'.format('Category','Accuracy'))\n",
    "for i, r in enumerate(confusion_matrix):\n",
    "    print('{0:10s} - {1:.1f}'.format(classes[i], r[i]/np.sum(r)*100))"
   ]
  },
  {
   "cell_type": "code",
   "execution_count": 67,
   "metadata": {},
   "outputs": [
    {
     "data": {
      "image/png": "[encoded data removed]",
      "text/plain": [
       "<Figure size 576x432 with 1 Axes>"
      ]
     },
     "metadata": {
      "needs_background": "light"
     },
     "output_type": "display_data"
    }
   ],
   "source": [
    "fig, ax = plt.subplots(1,1,figsize=(8,6))\n",
    "ax.matshow(confusion_matrix, aspect='auto', vmin=0, vmax=1000, cmap=plt.get_cmap('Blues'))\n",
    "plt.ylabel('Actual Category')\n",
    "plt.yticks(range(10), classes)\n",
    "plt.xlabel('Predicted Category')\n",
    "plt.xticks(range(10), classes)\n",
    "plt.show()"
   ]
  },
  {
   "cell_type": "markdown",
   "metadata": {},
   "source": [
    "4.Using the first CNN you trained, build another binary classifer that classifies images as ’Plane’\n",
    "or ’Not Plane’. Compute the AUC of this binary classifier. Retrain this classifier to improve\n",
    "the AUC for this binary classification task. Report how you did that and what is the best\n",
    "AUC you were able to obtain."
   ]
  },
  {
   "cell_type": "code",
   "execution_count": 53,
   "metadata": {},
   "outputs": [],
   "source": [
    "import numpy as np\n",
    "from sklearn.metrics import roc_auc_score\n",
    "\n",
    "def multiclass_to_binary_softmax(probs,index):\n",
    "    [num_rows,num_cols]=probs.size()\n",
    "    binary_probs = torch.zeros([num_rows,2])\n",
    "    for i in range(num_rows):\n",
    "        p_class = probs.data[i,index].item() \n",
    "        p_not_class = 1.0 - p_class \n",
    "        binary_probs.data[i,0]=p_class #map plane to class 0\n",
    "        binary_probs.data[i,1]=p_not_class #map not plane to class 1\n",
    "    return binary_probs\n",
    "\n",
    "def plane_or_not_plane(data):\n",
    "    inputs,labels = data\n",
    "    binary_labels = labels.clone()\n",
    "    # map the labels from the 10 classes to binary\n",
    "    for i,label in enumerate(binary_labels.tolist()):\n",
    "        if(classes[label]=='plane'):\n",
    "            binary_labels[i] = 0 # m\n",
    "        else:\n",
    "            binary_labels[i] = 1\n",
    "    return inputs,binary_labels\n",
    "\n",
    "def binary_class_to_label(label):\n",
    "    if label == 0:\n",
    "        return 'Plane'\n",
    "    else:\n",
    "        return 'Not Plane'\n",
    "def label_to_binary_class(label):\n",
    "    if label == 0: #Map plane to class 0\n",
    "        return 0\n",
    "    else: \n",
    "        return 1 # everything else is class 1"
   ]
  },
  {
   "cell_type": "markdown",
   "metadata": {},
   "source": [
    "I'll take the CNN that we trained. Take the 0-th softmax prob as the prob of being a plane, and the sum of probs 1-9 as not plane."
   ]
  },
  {
   "cell_type": "code",
   "execution_count": 54,
   "metadata": {},
   "outputs": [
    {
     "name": "stdout",
     "output_type": "stream",
     "text": [
      "Loaded model parameters from disk.\n"
     ]
    }
   ],
   "source": [
    "import os\n",
    "\n",
    "model_directory_path = './model/'\n",
    "model_path = model_directory_path + 'cifar-10-cnn-model.pt'\n",
    "\n",
    "if not os.path.exists(model_directory_path):\n",
    "    os.makedirs(model_directory_path)\n",
    "\n",
    "if os.path.isfile(model_path):\n",
    "    # load trained model parameters from disk\n",
    "    net.load_state_dict(torch.load(model_path))\n",
    "    print('Loaded model parameters from disk.')\n",
    "else:\n",
    "    for epoch in range(2):  # loop over the dataset multiple times\n",
    "\n",
    "        running_loss = 0.0\n",
    "        for i, data in enumerate(trainloader, 0):\n",
    "            # get the inputs\n",
    "            inputs, labels = data\n",
    "\n",
    "            # zero the parameter gradients\n",
    "            optimizer.zero_grad()\n",
    "\n",
    "            # forward + backward + optimize\n",
    "            outputs = net(inputs)\n",
    "            loss = criterion(outputs, labels)\n",
    "            loss.backward()\n",
    "            optimizer.step()\n",
    "\n",
    "            # print statistics\n",
    "            running_loss += loss.item()\n",
    "            if i % 2000 == 1999:    # print every 2000 mini-batches\n",
    "                print('[%d, %5d] loss: %.3f' %\n",
    "                      (epoch + 1, i + 1, running_loss / 2000))\n",
    "                running_loss = 0.0\n",
    "    print('Finished Training.')\n",
    "    torch.save(net.state_dict(), model_path)\n",
    "    print('Saved model parameters to disk.')"
   ]
  },
  {
   "cell_type": "code",
   "execution_count": 55,
   "metadata": {},
   "outputs": [
    {
     "name": "stdout",
     "output_type": "stream",
     "text": [
      "Model accuracy on 10000 test images: 92.54%\n",
      "AUC score on 10000 test images: 0.92\n"
     ]
    }
   ],
   "source": [
    "total_correct = 0\n",
    "total_images = 0\n",
    "confusion_matrix = np.zeros([10,2], int)\n",
    "plane_index = classes.index('plane')\n",
    "# true and predicted variables for computing the auc score\n",
    "Y_true = np.zeros(10000)\n",
    "Y_pred = np.zeros(10000)\n",
    "index = 0\n",
    "with torch.no_grad():\n",
    "    for data in testloader:\n",
    "        images, labels = data\n",
    "        _, binary_labels = plane_or_not_plane(data)\n",
    "        outputs = net(images)\n",
    "        # take the softmax probability of all of the 10 scores\n",
    "        softmax_probs = torch.softmax(outputs.data,1)\n",
    "        # sum up the probability of 'plane' and not 'plane' classes to turn the problem into binary\n",
    "        plane_or_not_plane_prob = multiclass_to_binary_softmax(softmax_probs,plane_index)\n",
    "        _, predicted_labels = torch.max(plane_or_not_plane_prob, 1)\n",
    "        total_images += labels.size(0)\n",
    "        total_correct += (predicted_labels == binary_labels).sum().item()\n",
    "        y_pred = plane_or_not_plane_prob.data[:,1].tolist()\n",
    "        y_true = binary_labels.data\n",
    "        \n",
    "        Y_pred[index:index+len(y_pred)]=y_pred\n",
    "        Y_true[index:index+len(y_true)]=y_true\n",
    "        index += len(y_pred)\n",
    "        for i, l in enumerate(labels):\n",
    "            confusion_matrix[l.item(), predicted_labels[i].item()] += 1 \n",
    "\n",
    "model_accuracy = total_correct / total_images * 100\n",
    "auc_score = roc_auc_score(Y_true,Y_pred)\n",
    "print('Model accuracy on {0} test images: {1:.2f}%'.format(total_images, model_accuracy))\n",
    "print('AUC score on {0} test images: {1:.2f}'.format(total_images, auc_score))"
   ]
  },
  {
   "cell_type": "code",
   "execution_count": 56,
   "metadata": {},
   "outputs": [
    {
     "name": "stdout",
     "output_type": "stream",
     "text": [
      "Category   - Accuracy\n",
      "plane      - 33.8\n",
      "car        - 99.8\n",
      "bird       - 95.6\n",
      "cat        - 99.6\n",
      "deer       - 98.8\n",
      "dog        - 100.0\n",
      "frog       - 99.9\n",
      "horse      - 99.8\n",
      "ship       - 98.3\n",
      "truck      - 99.8\n"
     ]
    }
   ],
   "source": [
    "print('{0:10s} - {1}'.format('Category','Accuracy'))\n",
    "for i, r in enumerate(confusion_matrix):\n",
    "    accuracy = 0\n",
    "    if classes[i] == 'plane':\n",
    "        accuracy = r[0]/np.sum(r)*100\n",
    "    else:\n",
    "        accuracy = r[1]/np.sum(r)*100\n",
    "    print('{0:10s} - {1:.1f}'.format(classes[i], accuracy))"
   ]
  },
  {
   "cell_type": "code",
   "execution_count": 57,
   "metadata": {},
   "outputs": [
    {
     "data": {
      "image/png": "[encoded data removed]",
      "text/plain": [
       "<Figure size 576x432 with 1 Axes>"
      ]
     },
     "metadata": {
      "needs_background": "light"
     },
     "output_type": "display_data"
    },
    {
     "name": "stdout",
     "output_type": "stream",
     "text": [
      "[[ 338  662]\n",
      " [   2  998]\n",
      " [  44  956]\n",
      " [   4  996]\n",
      " [  12  988]\n",
      " [   0 1000]\n",
      " [   1  999]\n",
      " [   2  998]\n",
      " [  17  983]\n",
      " [   2  998]]\n"
     ]
    }
   ],
   "source": [
    "fig, ax = plt.subplots(1,1,figsize=(8,6))\n",
    "ax.matshow(confusion_matrix, aspect='auto', vmin=0, vmax=1000, cmap=plt.get_cmap('Blues'))\n",
    "plt.ylabel('Actual Category')\n",
    "plt.yticks(range(10), classes)\n",
    "plt.xlabel('Predicted Category')\n",
    "plt.xticks(range(2), ['Plane','Not Plane'])\n",
    "plt.show()\n",
    "print(confusion_matrix)"
   ]
  },
  {
   "cell_type": "markdown",
   "metadata": {},
   "source": [
    "Next I'll try using a model with 2 output classes instead of one with 10."
   ]
  },
  {
   "cell_type": "code",
   "execution_count": 58,
   "metadata": {},
   "outputs": [],
   "source": [
    "import torch.nn as nn\n",
    "import torch.nn.functional as F\n",
    "\n",
    "class BinaryNet(nn.Module):\n",
    "    def __init__(self):\n",
    "        super(BinaryNet, self).__init__()\n",
    "        self.conv1 = nn.Conv2d(3, 6, 5)\n",
    "        self.pool = nn.MaxPool2d(2, 2)\n",
    "        self.conv2 = nn.Conv2d(6, 16, 5)\n",
    "        self.fc1 = nn.Linear(16 * 5 * 5, 120)\n",
    "        self.fc2 = nn.Linear(120, 84)\n",
    "        self.fc3 = nn.Linear(84, 2) #Changed the output net to only have 2 output nodes\n",
    "\n",
    "    def forward(self, x):\n",
    "        x = self.pool(F.relu(self.conv1(x)))\n",
    "        x = self.pool(F.relu(self.conv2(x)))\n",
    "        x = x.view(-1, 16 * 5 * 5)\n",
    "        x = F.relu(self.fc1(x))\n",
    "        x = F.relu(self.fc2(x))\n",
    "        x = self.fc3(x)\n",
    "        return x\n",
    "    \n",
    "bnet = BinaryNet()"
   ]
  },
  {
   "cell_type": "code",
   "execution_count": 71,
   "metadata": {},
   "outputs": [
    {
     "name": "stdout",
     "output_type": "stream",
     "text": [
      "Files already downloaded and verified\n",
      "Files already downloaded and verified\n"
     ]
    }
   ],
   "source": [
    "import torch\n",
    "import torchvision\n",
    "import torchvision.transforms as transforms\n",
    "transform = transforms.Compose(\n",
    "    [transforms.ToTensor(),\n",
    "     transforms.Normalize((0.5, 0.5, 0.5), (0.5, 0.5, 0.5))])\n",
    "\n",
    "trainset = torchvision.datasets.CIFAR10(root='./data', \n",
    "                                        train=True,\n",
    "                                        download=True, \n",
    "                                        transform=transform)\n",
    "                                        #target_transform=transforms.Lambda(lambda x: label_to_binary_class(x)))\n",
    "trainloader = torch.utils.data.DataLoader(trainset, \n",
    "                                          batch_size=4,\n",
    "                                          shuffle=True)\n",
    "\n",
    "testset = torchvision.datasets.CIFAR10(root='./data', \n",
    "                                       train=False,\n",
    "                                       download=True, \n",
    "                                       transform=transform)\n",
    "                                       #target_transform=transforms.Lambda(lambda x: label_to_binary_class(x)))\n",
    "testloader = torch.utils.data.DataLoader(testset, \n",
    "                                         batch_size=4,\n",
    "                                         shuffle=False)\n",
    "\n",
    "classes = ('plane', 'car', 'bird', 'cat', 'deer', \n",
    "           'dog', 'frog', 'horse', 'ship', 'truck')"
   ]
  },
  {
   "cell_type": "code",
   "execution_count": 60,
   "metadata": {},
   "outputs": [],
   "source": [
    "import torch.optim as optim\n",
    "import torch\n",
    "import torch.nn as nn\n",
    "\n",
    "criterion = nn.CrossEntropyLoss()\n",
    "optimizer = optim.SGD(bnet.parameters(), lr=0.001, momentum=0.9)"
   ]
  },
  {
   "cell_type": "code",
   "execution_count": 72,
   "metadata": {},
   "outputs": [
    {
     "name": "stdout",
     "output_type": "stream",
     "text": [
      "[1,  2000] loss: 0.173\n",
      "[1,  4000] loss: 0.169\n",
      "[1,  6000] loss: 0.168\n",
      "[1,  8000] loss: 0.156\n",
      "[1, 10000] loss: 0.159\n",
      "[1, 12000] loss: 0.166\n",
      "[2,  2000] loss: 0.160\n",
      "[2,  4000] loss: 0.153\n",
      "[2,  6000] loss: 0.150\n",
      "[2,  8000] loss: 0.155\n",
      "[2, 10000] loss: 0.155\n",
      "[2, 12000] loss: 0.152\n",
      "Finished Training.\n",
      "Saved model parameters to disk.\n"
     ]
    }
   ],
   "source": [
    "import os\n",
    "\n",
    "model_directory_path = './model/'\n",
    "model_path = model_directory_path + 'cifar-10-cnn-binary-model.pt'\n",
    "\n",
    "if not os.path.exists(model_directory_path):\n",
    "    os.makedirs(model_directory_path)\n",
    "\n",
    "if os.path.isfile(model_path):\n",
    "    # load trained model parameters from disk\n",
    "    bnet.load_state_dict(torch.load(model_path))\n",
    "    print('Loaded model parameters from disk.')\n",
    "else:\n",
    "    for epoch in range(2):  # loop over the dataset multiple times\n",
    "\n",
    "        running_loss = 0.0\n",
    "        for i, data in enumerate(trainloader, 0):\n",
    "            # get the inputs. labels are binary. 1 or plane, 0 otherwise\n",
    "            inputs, labels = plane_or_not_plane(data)\n",
    "\n",
    "            # zero the parameter gradients\n",
    "            optimizer.zero_grad()\n",
    "\n",
    "            # forward + backward + optimize\n",
    "            outputs = bnet(inputs)\n",
    "            loss = criterion(outputs, labels)\n",
    "            loss.backward()\n",
    "            optimizer.step()\n",
    "\n",
    "            # print statistics\n",
    "            running_loss += loss.item()\n",
    "            if i % 2000 == 1999:    # print every 2000 mini-batches\n",
    "                print('[%d, %5d] loss: %.3f' %\n",
    "                      (epoch + 1, i + 1, running_loss / 2000))\n",
    "                running_loss = 0.0\n",
    "    print('Finished Training.')\n",
    "    torch.save(bnet.state_dict(), model_path)\n",
    "    print('Saved model parameters to disk.')"
   ]
  },
  {
   "cell_type": "code",
   "execution_count": 73,
   "metadata": {},
   "outputs": [
    {
     "data": {
      "image/png": "[encoded data removed]",
      "text/plain": [
       "<Figure size 864x180 with 4 Axes>"
      ]
     },
     "metadata": {},
     "output_type": "display_data"
    }
   ],
   "source": [
    "import matplotlib.pyplot as plt\n",
    "import numpy as np\n",
    "\n",
    "dataiter = iter(testloader)\n",
    "images, labels = dataiter.next()\n",
    "\n",
    "\n",
    "fig, axes = plt.subplots(1, len(images), figsize=(12,2.5))\n",
    "for idx, image in enumerate(images):\n",
    "    axes[idx].imshow(convert_to_imshow_format(image))\n",
    "    axes[idx].set_title(binary_class_to_label(labels[idx]))\n",
    "    axes[idx].set_xticks([])\n",
    "    axes[idx].set_yticks([])"
   ]
  },
  {
   "cell_type": "code",
   "execution_count": 74,
   "metadata": {},
   "outputs": [
    {
     "name": "stdout",
     "output_type": "stream",
     "text": [
      "AUC score on 10000 test images: 0.95\n",
      "Model accuracy on 10000 test images: 94.22%\n"
     ]
    }
   ],
   "source": [
    "total_correct = 0\n",
    "total_images = 0\n",
    "confusion_matrix = np.zeros([10,2], int)\n",
    "# true and predicted variables for computing the auc score\n",
    "Y_true = np.zeros(10000)\n",
    "Y_pred = np.zeros(10000)\n",
    "index = 0\n",
    "with torch.no_grad():\n",
    "    for data in testloader:\n",
    "        images, labels = data\n",
    "        images, binary_labels = plane_or_not_plane(data)\n",
    "        outputs = bnet(images)\n",
    "        \n",
    "        # take the softmax probability of the binary classifier scores\n",
    "        softmax_probs = torch.softmax(outputs.data,1)\n",
    "        \n",
    "        _, predicted = torch.max(outputs.data, 1)\n",
    "        total_images += labels.size(0)\n",
    "        total_correct += (predicted == binary_labels).sum().item()\n",
    "        \n",
    "        y_pred = softmax_probs.data[:,1].tolist()\n",
    "        y_true = binary_labels.data\n",
    "        \n",
    "        Y_pred[index:index+len(y_pred)]=y_pred\n",
    "        Y_true[index:index+len(y_true)]=y_true\n",
    "        index += len(y_pred)\n",
    "        for i, l in enumerate(labels):\n",
    "            confusion_matrix[l.item(), predicted[i].item()] += 1 \n",
    "\n",
    "model_accuracy = total_correct / total_images * 100\n",
    "auc_score = roc_auc_score(Y_true,Y_pred)\n",
    "print('AUC score on {0} test images: {1:.2f}'.format(total_images, auc_score))\n",
    "print('Model accuracy on {0} test images: {1:.2f}%'.format(total_images, model_accuracy))"
   ]
  },
  {
   "cell_type": "code",
   "execution_count": 75,
   "metadata": {},
   "outputs": [
    {
     "data": {
      "text/plain": [
       "array([[625, 375],\n",
       "       [ 10, 990],\n",
       "       [ 43, 957],\n",
       "       [ 11, 989],\n",
       "       [ 13, 987],\n",
       "       [  7, 993],\n",
       "       [  1, 999],\n",
       "       [  3, 997],\n",
       "       [ 88, 912],\n",
       "       [ 27, 973]])"
      ]
     },
     "execution_count": 75,
     "metadata": {},
     "output_type": "execute_result"
    }
   ],
   "source": [
    "confusion_matrix"
   ]
  },
  {
   "cell_type": "code",
   "execution_count": 76,
   "metadata": {},
   "outputs": [
    {
     "name": "stdout",
     "output_type": "stream",
     "text": [
      "Category   - Accuracy\n",
      "plane      - 62.5\n",
      "car        - 99.0\n",
      "bird       - 95.7\n",
      "cat        - 98.9\n",
      "deer       - 98.7\n",
      "dog        - 99.3\n",
      "frog       - 99.9\n",
      "horse      - 99.7\n",
      "ship       - 91.2\n",
      "truck      - 97.3\n"
     ]
    }
   ],
   "source": [
    "print('{0:10s} - {1}'.format('Category','Accuracy'))\n",
    "for i, r in enumerate(confusion_matrix):\n",
    "    accuracy = 0\n",
    "    if classes[i] == 'plane':\n",
    "        accuracy = r[0]/np.sum(r)*100\n",
    "    else:\n",
    "        accuracy = r[1]/np.sum(r)*100\n",
    "    print('{0:10s} - {1:.1f}'.format(classes[i], accuracy))"
   ]
  },
  {
   "cell_type": "code",
   "execution_count": 78,
   "metadata": {},
   "outputs": [
    {
     "data": {
      "image/png": "[encoded data removed]",
      "text/plain": [
       "<Figure size 576x432 with 1 Axes>"
      ]
     },
     "metadata": {
      "needs_background": "light"
     },
     "output_type": "display_data"
    }
   ],
   "source": [
    "fig, ax = plt.subplots(1,1,figsize=(8,6))\n",
    "ax.matshow(confusion_matrix, aspect='auto', vmin=0, vmax=1000, cmap=plt.get_cmap('Blues'))\n",
    "plt.ylabel('Actual Category')\n",
    "plt.yticks(range(10), classes)\n",
    "plt.xlabel('Predicted Category')\n",
    "plt.xticks(range(2), ['Plane','Not Plane'])\n",
    "plt.show()"
   ]
  },
  {
   "cell_type": "markdown",
   "metadata": {},
   "source": [
    "### Problem 3: Adversarial attacks: Horses and Cars."
   ]
  },
  {
   "cell_type": "markdown",
   "metadata": {},
   "source": [
    "Consider the first CNN model that you trained in the previous problem. Take an image $x_1$ of\n",
    "a horse that is classified correctly as a horse. It is possible to modify the input pixels very little\n",
    "(say 5-10 percent)) and fool the model that this image is a car. For the target attack class (Car in\n",
    "this example), compute the gradient of the class logit with respect to the input pixels. Modify the\n",
    "image in this gradient direction, while keeping each pixel to be perturbed by 0.1 (since each pixel\n",
    "$1 \\in [-1,1]$) from the original horse image x. Create and show 8 adversarial perturbed horse images\n",
    "you created that are classified as cars.\n",
    "\n",
    "Followed some of https://savan77.github.io/blog/imagenet_adv_examples.html for this assignment and worked with Matt Molter for this section"
   ]
  },
  {
   "cell_type": "code",
   "execution_count": 6,
   "metadata": {},
   "outputs": [
    {
     "name": "stdout",
     "output_type": "stream",
     "text": [
      "Loaded model parameters from disk.\n"
     ]
    }
   ],
   "source": [
    "import os\n",
    "\n",
    "net = Net()\n",
    "\n",
    "model_directory_path = './model/'\n",
    "model_path = model_directory_path + 'cifar-10-cnn-model.pt'\n",
    "\n",
    "if not os.path.exists(model_directory_path):\n",
    "    os.makedirs(model_directory_path)\n",
    "\n",
    "if os.path.isfile(model_path):\n",
    "    # load trained model parameters from disk\n",
    "    net.load_state_dict(torch.load(model_path))\n",
    "    print('Loaded model parameters from disk.')\n",
    "else:\n",
    "    for epoch in range(2):  # loop over the dataset multiple times\n",
    "\n",
    "        running_loss = 0.0\n",
    "        for i, data in enumerate(trainloader, 0):\n",
    "            # get the inputs\n",
    "            inputs, labels = data\n",
    "\n",
    "            # zero the parameter gradients\n",
    "            optimizer.zero_grad()\n",
    "\n",
    "            # forward + backward + optimize\n",
    "            outputs = net(inputs)\n",
    "            loss = criterion(outputs, labels)\n",
    "            loss.backward()\n",
    "            optimizer.step()\n",
    "\n",
    "            # print statistics\n",
    "            running_loss += loss.item()\n",
    "            if i % 2000 == 1999:    # print every 2000 mini-batches\n",
    "                print('[%d, %5d] loss: %.3f' %\n",
    "                      (epoch + 1, i + 1, running_loss / 2000))\n",
    "                running_loss = 0.0\n",
    "    print('Finished Training.')\n",
    "    torch.save(net.state_dict(), model_path)\n",
    "    print('Saved model parameters to disk.')"
   ]
  },
  {
   "cell_type": "code",
   "execution_count": 7,
   "metadata": {},
   "outputs": [],
   "source": [
    "import torch\n",
    "import torch.nn\n",
    "from torch.autograd.gradcheck import zero_gradients\n",
    "import torch.nn.functional as F\n",
    "import torchvision.models as models\n",
    "from PIL import Image\n",
    "from torchvision import transforms\n",
    "import numpy as np\n",
    "import requests, io\n",
    "import matplotlib.pyplot as plt\n",
    "from torch.autograd import Variable\n",
    "%matplotlib inline"
   ]
  },
  {
   "cell_type": "code",
   "execution_count": 20,
   "metadata": {},
   "outputs": [],
   "source": [
    "def load_img(url):\n",
    "    response = requests.get(url)\n",
    "    img = Image.open(io.BytesIO(response.content))\n",
    "    return img\n",
    "\n",
    "def graph_x_and_x_adv(x, x_adv, x_grad, epsilon, clean_pred, adv_pred, clean_prob, adv_prob):\n",
    "    \n",
    "    x = x.squeeze(0)     #remove batch dimension # B X C H X W ==> C X H X W\n",
    "    x = x.mul(torch.FloatTensor(std).view(3,1,1)).add(torch.FloatTensor(mean).view(3,1,1)).numpy()#reverse of normalization op- \"unnormalize\"\n",
    "    x = np.transpose( x , (1,2,0))   # C X H X W  ==>   H X W X C\n",
    "    x = np.clip(x, 0, 1)\n",
    "    \n",
    "    x_adv = x_adv.squeeze(0)\n",
    "    x_adv = x_adv.mul(torch.FloatTensor(std).view(3,1,1)).add(torch.FloatTensor(mean).view(3,1,1)).numpy()#reverse of normalization op\n",
    "    x_adv = np.transpose( x_adv , (1,2,0))   # C X H X W  ==>   H X W X C\n",
    "    x_adv = np.clip(x_adv, 0, 1)\n",
    "    \n",
    "    x_grad = x_grad.squeeze(0).numpy()\n",
    "    x_grad = np.transpose(x_grad, (1,2,0))\n",
    "    x_grad = np.clip(x_grad, 0, 1)\n",
    "    \n",
    "    figure, ax = plt.subplots(1,3, figsize=(18,8))\n",
    "    ax[0].imshow(x)\n",
    "    ax[0].set_title('Clean Example', fontsize=20)\n",
    "    \n",
    "    \n",
    "    ax[1].imshow(x_grad)\n",
    "    ax[1].set_title('Perturbation', fontsize=20)\n",
    "    ax[1].set_yticklabels([])\n",
    "    ax[1].set_xticklabels([])\n",
    "    ax[1].set_xticks([])\n",
    "    ax[1].set_yticks([])\n",
    "\n",
    "    \n",
    "    ax[2].imshow(x_adv)\n",
    "    ax[2].set_title('Adversarial Example', fontsize=20)\n",
    "    \n",
    "    ax[0].axis('off')\n",
    "    ax[2].axis('off')\n",
    "\n",
    "    ax[0].text(1.1,0.5, \"+{}*\".format(round(epsilon,3)), size=15, ha=\"center\", \n",
    "             transform=ax[0].transAxes)\n",
    "    \n",
    "    ax[0].text(0.5,-0.13, \"Prediction: {}\\n Probability: {}\".format(clean_pred, clean_prob), size=15, ha=\"center\", \n",
    "         transform=ax[0].transAxes)\n",
    "    \n",
    "    ax[1].text(1.1,0.5, \" = \", size=15, ha=\"center\", transform=ax[1].transAxes)\n",
    "\n",
    "    ax[2].text(0.5,-0.13, \"Prediction: {}\\n Probability: {}\".format(adv_pred, adv_prob), size=15, ha=\"center\", \n",
    "         transform=ax[2].transAxes)\n",
    "    plt.show()"
   ]
  },
  {
   "cell_type": "code",
   "execution_count": 9,
   "metadata": {},
   "outputs": [],
   "source": [
    "\n",
    "mean=[0.485, 0.456, 0.406]\n",
    "std=[0.229, 0.224, 0.225]\n",
    "\n",
    "# prepocess the images into the size the CNN expects\n",
    "preprocess = transforms.Compose([\n",
    "                transforms.Resize((32,32)),  \n",
    "                transforms.ToTensor(),\n",
    "                transforms.Normalize(mean, std)])"
   ]
  },
  {
   "cell_type": "code",
   "execution_count": 10,
   "metadata": {},
   "outputs": [],
   "source": [
    "url = 'https://images2.minutemediacdn.com/image/upload/c_crop,h_1194,w_2121,x_0,y_34/f_auto,q_auto,w_1100/v1553786510/shape/mentalfloss/539787-istock-879570436.jpg'\n",
    "img = load_img(url)\n",
    "image_tensor = preprocess(img) #preprocess an i\n",
    "image_tensor = image_tensor.unsqueeze(0) # add batch dimension.  C X H X W ==> B X C X H X W"
   ]
  },
  {
   "cell_type": "code",
   "execution_count": 11,
   "metadata": {},
   "outputs": [],
   "source": [
    "img_variable = Variable(image_tensor, requires_grad=True) #convert tensor into a variable"
   ]
  },
  {
   "cell_type": "code",
   "execution_count": 24,
   "metadata": {},
   "outputs": [
    {
     "name": "stdout",
     "output_type": "stream",
     "text": [
      "The CNN classifies the image as a horse with probability 99.9993\n"
     ]
    }
   ],
   "source": [
    "# next classify the image\n",
    "output = net.forward(img_variable)\n",
    "x_pred = (torch.max(output.data, 1)[1][0]).item()    #get an index(class number) of a largest element\n",
    "#get probability dist over classes\n",
    "output_probs = F.softmax(output, dim=1)\n",
    "x_pred_prob =  round(((torch.max(output_probs.data, 1)[0][0])).item() * 100,4)\n",
    "print(\"The CNN classifies the image as a {} with probability {}\".format(classes[x_pred],x_pred_prob))"
   ]
  },
  {
   "cell_type": "markdown",
   "metadata": {},
   "source": [
    "Now try to modify the image to the target class using the Fast Gradient Sign Method.\n",
    "\n",
    "Let's say we have an input X, which is correctly classified by our model (M). We want to find an adversarial example  $X' $ , which is perceptually indistinguishable from original input $X$, such that it will be misclassified by that same model ($M$). We can do that by adding an adversarial perturbation (  $θ$  ) to the original input. Note that we want adversarial example to be indistinguishable from the original one. That can be achieved by constraining the magnitude of adversarial perturbation:  $||X−X'||_∞ ⩽ ϵ $ . That is, the  $L_∞$ norm should be less than epsilon. Here,  $L_∞$  denotes the maximum changes for all pixels in adversarial example. Fast Gradient Sign Method (FGSM) is a fast and computationally efficient method to generate adversarial examples. However, it usually has a lower success rate. The formula to find adversarial example is as follows:\n",
    "$X_{adv}=X + ϵ sign(∇_XJ(X,Y_{true})$\n",
    " \n",
    "Here,\n",
    "$X$ = original (clean) input\n",
    "$Xadv$  = adversarial input (intentionally designed to be misclassified by our model)\n",
    "$ϵ$  = magnitude of adversarial perturbation\n",
    "$∇_XJ(X,Y_{true})$  = gradient of loss function w.r.t to input (X)"
   ]
  },
  {
   "cell_type": "code",
   "execution_count": 25,
   "metadata": {},
   "outputs": [],
   "source": [
    "y_true = classes.index('car')\n",
    "target = Variable(torch.LongTensor([y_true]), requires_grad=False)"
   ]
  },
  {
   "cell_type": "code",
   "execution_count": 26,
   "metadata": {},
   "outputs": [],
   "source": [
    "#perform a backward pass in order to get gradients\n",
    "loss = torch.nn.CrossEntropyLoss()\n",
    "loss_cal = loss(output, target)\n",
    "loss_cal.backward(retain_graph=True)    #this will calculate gradient of each variable (with requires_grad=True) and can be accessed by \"var.grad.data\""
   ]
  },
  {
   "cell_type": "markdown",
   "metadata": {},
   "source": [
    "Following code cell computes the adversarial example using formula shown above."
   ]
  },
  {
   "cell_type": "code",
   "execution_count": 35,
   "metadata": {},
   "outputs": [],
   "source": [
    "def generate_x_adv(img_variable,x_grad,eps):\n",
    "    x_adversarial = img_variable.data - eps* x_grad\n",
    "    output_adv = net.forward(Variable(x_adversarial))\n",
    "    x_adv_pred = classes[(torch.max(output_adv.data, 1)[1][0]).item()]\n",
    "    op_adv_probs = F.softmax(output_adv, dim=1)\n",
    "    adv_pred_prob =  round((torch.max(op_adv_probs.data, 1)[0][0]).item() * 100, 4)\n",
    "    graph_x_and_x_adv(image_tensor, x_adversarial, x_grad, i, x_pred, x_adv_pred, x_pred_prob, adv_pred_prob)"
   ]
  },
  {
   "cell_type": "code",
   "execution_count": 40,
   "metadata": {},
   "outputs": [
    {
     "data": {
      "image/png": "[encoded data removed]",
      "text/plain": [
       "<Figure size 1296x576 with 3 Axes>"
      ]
     },
     "metadata": {
      "needs_background": "light"
     },
     "output_type": "display_data"
    }
   ],
   "source": [
    "generate_x_adv(img_variable,x_grad,.3)"
   ]
  },
  {
   "cell_type": "markdown",
   "metadata": {},
   "source": [
    "I was able to fool the CNN using the example above. I'll try some more images"
   ]
  },
  {
   "cell_type": "code",
   "execution_count": null,
   "metadata": {},
   "outputs": [],
   "source": []
  },
  {
   "cell_type": "markdown",
   "metadata": {},
   "source": [
    "### Problem 4: Experimenting with Fast.AI (Extra credit 20 points)."
   ]
  },
  {
   "cell_type": "markdown",
   "metadata": {},
   "source": [
    "1. Create an account on paperspace or a cloud service of your choice. You should make sure\n",
    "that you are able to install all the libraries and tools needed for Fast.ai. If you choose to do\n",
    "this on paperspace.com, then:\n",
    "\n",
    "(a) Create an account on paperspace.\n",
    "\n",
    "(b) Log in. \n",
    "\n",
    "(c) Go to Gradient in the toolbar in the left. \n",
    "\n",
    "(d) Create Notebook. \n",
    "\n",
    "(e) Paperspace Fast.AI 1.0 (V3). \n",
    "\n",
    "(f) Choose the P5000 machine ($0.78/hour). \n",
    "\n",
    "(g) Launch, and go to: course-v3 −→ nbs −→ dl1 and open up the first lesson: lesson1-pets.ipynb."
   ]
  },
  {
   "cell_type": "markdown",
   "metadata": {},
   "source": [
    "2. Fast.ai\n",
    "Fast.ai has created a large library of tools that make setting up and training a neural network\n",
    "very easy, especially through the use of transfer learning. The notebook you opened in the\n",
    "previous exercise corresponds to the first lesson under “Practical Deep Learning for Coders.”\n",
    "Watch this lesson, and follow along on the notebook."
   ]
  },
  {
   "cell_type": "markdown",
   "metadata": {},
   "source": [
    "3. Make sure you understand the key elements of using Fast.ai, including understanding how to\n",
    "access the help documentation. Specifically:\n",
    "(a) Figure out: ImageDataBunch: this is the main data structure that is used.\n",
    "(b) Figure out: create cnn. This is the way you will create a “learner” that you will then\n",
    "train for some number of epochs. The key here is how easy it is to download a pre-set\n",
    "architecture (e.g., the notebook starts with resnet34, but has various others as well)."
   ]
  },
  {
   "cell_type": "markdown",
   "metadata": {},
   "source": [
    "4. Explain what is a residual network, and the basic motivation for using it. Also explain what\n",
    "are the main elements of resnet34 and resnet50. How many layers, how many neurons total,\n",
    "how many weights; and then anything else you want to say."
   ]
  },
  {
   "cell_type": "markdown",
   "metadata": {},
   "source": [
    "5. Transfer learning using Fast.ai and create cnn: Please explain how pretrained resnet34 is\n",
    "modified to get the network that the notebook ultimately trains (i.e., explain what are the\n",
    "last layers that are added)."
   ]
  },
  {
   "cell_type": "markdown",
   "metadata": {},
   "source": [
    "6. Download a NOT pre-trained resnet34, and then by playing with the number of epochs and\n",
    "learning rates (possibly different learning rates across layers), see how low you can get the\n",
    "error. Can you get below 20%?"
   ]
  },
  {
   "cell_type": "markdown",
   "metadata": {},
   "source": [
    "7. And for the main part of this HW: download (and label) your own data set of your choie,\n",
    "create a classification problem, and then use the main tools/ideas of this notebook to build a\n",
    "classifier. It does not need to be a multi-label classifier.\n",
    "For getting data, you may want to refer to the discussion here, for various tools that could be\n",
    "useful: https://forums.fast.ai/t/tips-for-building-large-image-datasets/26688/\n",
    "36."
   ]
  },
  {
   "cell_type": "markdown",
   "metadata": {},
   "source": [
    "### Submission:\n",
    "I completed this part of the homework in paperspace and will submit it as a different jupyter notebook in the submission. The notebook is javier_palomares_hw2_problem4"
   ]
  },
  {
   "cell_type": "markdown",
   "metadata": {},
   "source": [
    "### Problem 5: Final project proposal.\n",
    "Recall: the final project presentations will be on the last day of class, Saturday Dec 14th 1-5pm.\n",
    "Final Project presentations are on Dec 14th in class. Final project reports due December 15th\n",
    "midnight. Presentation duration: 10 minute presentations plus questions. The last problem of\n",
    "this homework is to write your project proposal (1-2 pages). Please include team members, what\n",
    "dataset you plan to use, what questions you plan to ask. Some preliminary results that show you\n",
    "have started experimenting with the data and show promise. One interesting direction is you plan\n",
    "to combine different datasets or search for dataset search engines for numerous resources. You will\n",
    "be graded on the project proposal."
   ]
  },
  {
   "cell_type": "markdown",
   "metadata": {},
   "source": [
    "PDF of project proposal is attached as a pdf in this repo"
   ]
  }
 ],
 "metadata": {
  "kernelspec": {
   "display_name": "Python 3",
   "language": "python",
   "name": "python3"
  },
  "language_info": {
   "codemirror_mode": {
    "name": "ipython",
    "version": 3
   },
   "file_extension": ".py",
   "mimetype": "text/x-python",
   "name": "python",
   "nbconvert_exporter": "python",
   "pygments_lexer": "ipython3",
   "version": "3.6.8"
  }
 },
 "nbformat": 4,
 "nbformat_minor": 2
}
