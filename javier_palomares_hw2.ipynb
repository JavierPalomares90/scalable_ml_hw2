{
 "cells": [
  {
   "cell_type": "markdown",
   "metadata": {},
   "source": [
    "# Scalable Machine Learning HW2\n",
    "## Javier Palomares\n",
    "\n",
    "#### Problem 1: Convolutions\n",
    "1. Compute the output of a 1D convolution layer if the input is a single-channel vector [1,-1,3,4,4]\n",
    "and the kernal is [1,1] for stride =1 and padding =0."
   ]
  },
  {
   "cell_type": "code",
   "execution_count": 1,
   "metadata": {},
   "outputs": [],
   "source": [
    "vector = [1,-1,3,4,4]\n",
    "kernel = [1,1]\n",
    "stride = 1\n",
    "padding = 0"
   ]
  },
  {
   "cell_type": "code",
   "execution_count": 2,
   "metadata": {},
   "outputs": [],
   "source": [
    "# helper method to pad vectors\n",
    "def pad_vector(v,padding):\n",
    "    l = len(v)\n",
    "    new_dim = l + 2*padding\n",
    "    vec = [0] * new_dim\n",
    "    vec[padding:padding+l] = v\n",
    "    return vec\n",
    "\n",
    "# helper method to compute the convolution\n",
    "def convolve(vector,kernel,stride):\n",
    "    import numpy as np\n",
    "    index = 0\n",
    "    # length of vector\n",
    "    l = len(vector)\n",
    "    # length of kerner\n",
    "    kl = len(kernel)\n",
    "    conv = [0] * (l - kl + 1)\n",
    "    i = 0\n",
    "    while (index < l-stride):\n",
    "        v = vector[index:index+kl]\n",
    "        conv[i] = np.dot(v,kernel)\n",
    "        index = index + stride\n",
    "        i = i + 1\n",
    "    return conv"
   ]
  },
  {
   "cell_type": "code",
   "execution_count": 3,
   "metadata": {},
   "outputs": [
    {
     "data": {
      "text/plain": [
       "[0, 2, 7, 8]"
      ]
     },
     "execution_count": 3,
     "metadata": {},
     "output_type": "execute_result"
    }
   ],
   "source": [
    "convolve(pad_vector(vector,padding),kernel,stride)"
   ]
  },
  {
   "cell_type": "markdown",
   "metadata": {},
   "source": [
    "2. Compute the output of a 1D convolution layer if the input is a single-channel vector [1,-1,3,4,4]\n",
    "and the kernal is [1,-1] for stride =1 and padding =1 (padding one means on both sides)"
   ]
  },
  {
   "cell_type": "code",
   "execution_count": 4,
   "metadata": {},
   "outputs": [
    {
     "data": {
      "text/plain": [
       "[1, 0, 2, 7, 8, 4]"
      ]
     },
     "execution_count": 4,
     "metadata": {},
     "output_type": "execute_result"
    }
   ],
   "source": [
    "vector = [1,-1,3,4,4]\n",
    "kernel = [1,1]\n",
    "stride = 1\n",
    "padding = 1\n",
    "convolve(pad_vector(vector,padding),kernel,stride)"
   ]
  },
  {
   "cell_type": "markdown",
   "metadata": {},
   "source": [
    "3. Write pytorch code that computes these outputs. Create the corresponding tensors and use\n",
    "torch.nn.Conv1d and ConvTranspose1d."
   ]
  },
  {
   "cell_type": "code",
   "execution_count": 26,
   "metadata": {},
   "outputs": [
    {
     "data": {
      "text/plain": [
       "tensor([[[0., 2., 7., 8.]]], grad_fn=<SqueezeBackward1>)"
      ]
     },
     "execution_count": 26,
     "metadata": {},
     "output_type": "execute_result"
    }
   ],
   "source": [
    "import torch\n",
    "import torch.nn as nn\n",
    "vector = [1,-1,3,4,4]\n",
    "kernel = [1,1]\n",
    "t = torch.Tensor([[[1,-1,3,4,4]]])\n",
    "conv = nn.Conv1d(in_channels=1,out_channels=1,kernel_size=2,stride=1,padding=0,bias=False)\n",
    "conv.weight.data = torch.ones(1,1,2)\n",
    "y=conv(t)\n",
    "y"
   ]
  },
  {
   "cell_type": "code",
   "execution_count": 27,
   "metadata": {},
   "outputs": [
    {
     "data": {
      "text/plain": [
       "tensor([[[1., 0., 2., 7., 8., 4.]]], grad_fn=<SqueezeBackward1>)"
      ]
     },
     "execution_count": 27,
     "metadata": {},
     "output_type": "execute_result"
    }
   ],
   "source": [
    "import torch\n",
    "import torch.nn as nn\n",
    "vector = [1,-1,3,4,4]\n",
    "kernel = [1,1]\n",
    "t = torch.Tensor([[[1,-1,3,4,4]]])\n",
    "conv = nn.Conv1d(in_channels=1,out_channels=1,kernel_size=2,stride=1,padding=1,bias=False)\n",
    "conv.weight.data = torch.ones(1,1,2)\n",
    "y=conv(t)\n",
    "y"
   ]
  },
  {
   "cell_type": "markdown",
   "metadata": {},
   "source": [
    "### Problem 2: Training a CIFAR-10 CNN classifer\n",
    "\n",
    "In this problem we will follow a tutorial to build a Convolutional neural network that classifies\n",
    "images from the CIFAR-10 dataset and then modify it.\n",
    "\n",
    "1. Start by implementing and running this tutorial. https://www.stefanfiott.com/machine-learning/\n",
    "cifar-10-classifier-using-cnn-in-pytorch/ Show the accuracy you get and also the\n",
    "confusion matrix you obtain for the 10 classes."
   ]
  },
  {
   "cell_type": "code",
   "execution_count": 5,
   "metadata": {},
   "outputs": [],
   "source": [
    "#TODO: Finish"
   ]
  },
  {
   "cell_type": "markdown",
   "metadata": {},
   "source": [
    "2. Show the convolutional layer kernels you learned in the first convolutional layer."
   ]
  },
  {
   "cell_type": "code",
   "execution_count": 6,
   "metadata": {},
   "outputs": [],
   "source": [
    "#TODO: Finish"
   ]
  },
  {
   "cell_type": "markdown",
   "metadata": {},
   "source": [
    "3. Replace the architecture with AlexNet (https://github.com/icpm/pytorch-cifar10/blob/master/models/AlexNet.py) and report accuracy. Tune hyperparameters to get the best\n",
    "possible accuracy on a test set."
   ]
  },
  {
   "cell_type": "code",
   "execution_count": 7,
   "metadata": {},
   "outputs": [],
   "source": [
    "#TODO: Finish"
   ]
  },
  {
   "cell_type": "markdown",
   "metadata": {},
   "source": [
    "4. Using the first CNN you trained, build another binary classifer that classifies images as ’Plane’\n",
    "or ’Not Plane’. Compute the AUC of this binary classifier. Retrain this classifier to improve\n",
    "the AUC for this binary classification task. Report how you did that and what is the best\n",
    "AUC you were able to obtain."
   ]
  },
  {
   "cell_type": "markdown",
   "metadata": {},
   "source": [
    "### Problem 3: Adversarial attacks: Horses and Cars."
   ]
  },
  {
   "cell_type": "markdown",
   "metadata": {},
   "source": [
    "Consider the first CNN model that you trained in the previous problem. Take an image x 1 of\n",
    "a horse that is classified correctly as a horse. It is possible to modify the input pixels very little\n",
    "(say 5-10 percent)) and fool the model that this image is a car. For the target attack class (Car in\n",
    "this example), compute the gradient of the class logit with respect to the input pixels. Modify the\n",
    "image in this gradient direction, while keeping each pixel to be perturbed by 0.1 (since each pixel\n",
    "1in [-1,1]) from the original horse image x. Create and show 8 adversarial perturbed horse images\n",
    "you created that are classified as cars."
   ]
  },
  {
   "cell_type": "code",
   "execution_count": 8,
   "metadata": {},
   "outputs": [],
   "source": [
    "#TODO: Finish"
   ]
  },
  {
   "cell_type": "markdown",
   "metadata": {},
   "source": [
    "### Problem 4: Experimenting with Fast.AI (Extra credit 20 points)."
   ]
  },
  {
   "cell_type": "markdown",
   "metadata": {},
   "source": [
    "1. Create an account on paperspace or a cloud service of your choice. You should make sure\n",
    "that you are able to install all the libraries and tools needed for Fast.ai. If you choose to do\n",
    "this on paperspace.com, then:\n",
    "\n",
    "(a) Create an account on paperspace.\n",
    "\n",
    "(b) Log in. \n",
    "\n",
    "(c) Go to Gradient in the toolbar in the left. \n",
    "\n",
    "(d) Create Notebook. \n",
    "\n",
    "(e) Paperspace Fast.AI 1.0 (V3). \n",
    "\n",
    "(f) Choose the P5000 machine ($0.78/hour). \n",
    "\n",
    "(g) Launch, and go to: course-v3 −→ nbs −→ dl1 and open up the first lesson: lesson1-pets.ipynb."
   ]
  },
  {
   "cell_type": "code",
   "execution_count": 9,
   "metadata": {},
   "outputs": [],
   "source": [
    "#TODO: Finish"
   ]
  },
  {
   "cell_type": "markdown",
   "metadata": {},
   "source": [
    "2. Fast.ai\n",
    "Fast.ai has created a large library of tools that make setting up and training a neural network\n",
    "very easy, especially through the use of transfer learning. The notebook you opened in the\n",
    "previous exercise corresponds to the first lesson under “Practical Deep Learning for Coders.”\n",
    "Watch this lesson, and follow along on the notebook."
   ]
  },
  {
   "cell_type": "code",
   "execution_count": 10,
   "metadata": {},
   "outputs": [],
   "source": [
    "#TODO: Finish"
   ]
  },
  {
   "cell_type": "markdown",
   "metadata": {},
   "source": [
    "3. Make sure you understand the key elements of using Fast.ai, including understanding how to\n",
    "access the help documentation. Specifically:\n",
    "(a) Figure out: ImageDataBunch: this is the main data structure that is used.\n",
    "(b) Figure out: create cnn. This is the way you will create a “learner” that you will then\n",
    "train for some number of epochs. The key here is how easy it is to download a pre-set\n",
    "architecture (e.g., the notebook starts with resnet34, but has various others as well)."
   ]
  },
  {
   "cell_type": "code",
   "execution_count": 11,
   "metadata": {},
   "outputs": [],
   "source": [
    "#TODO: Finish"
   ]
  },
  {
   "cell_type": "markdown",
   "metadata": {},
   "source": [
    "4. Explain what is a residual network, and the basic motivation for using it. Also explain what\n",
    "are the main elements of resnet34 and resnet50. How many layers, how many neurons total,\n",
    "how many weights; and then anything else you want to say."
   ]
  },
  {
   "cell_type": "code",
   "execution_count": 12,
   "metadata": {},
   "outputs": [],
   "source": [
    "#TODO: Finish"
   ]
  },
  {
   "cell_type": "markdown",
   "metadata": {},
   "source": [
    "5. Transfer learning using Fast.ai and create cnn: Please explain how pretrained resnet34 is\n",
    "modified to get the network that the notebook ultimately trains (i.e., explain what are the\n",
    "last layers that are added)."
   ]
  },
  {
   "cell_type": "code",
   "execution_count": 14,
   "metadata": {},
   "outputs": [],
   "source": [
    "#TODO: Finish"
   ]
  },
  {
   "cell_type": "markdown",
   "metadata": {},
   "source": [
    "6. Download a NOT pre-trained resnet34, and then by playing with the number of epochs and\n",
    "learning rates (possibly different learning rates across layers), see how low you can get the\n",
    "error. Can you get below 20%?"
   ]
  },
  {
   "cell_type": "code",
   "execution_count": 15,
   "metadata": {},
   "outputs": [],
   "source": [
    "#TODO: Finish"
   ]
  },
  {
   "cell_type": "markdown",
   "metadata": {},
   "source": [
    "7. And for the main part of this HW: download (and label) your own data set of your choie,\n",
    "create a classification problem, and then use the main tools/ideas of this notebook to build a\n",
    "classifier. It does not need to be a multi-label classifier.\n",
    "For getting data, you may want to refer to the discussion here, for various tools that could be\n",
    "useful: https://forums.fast.ai/t/tips-for-building-large-image-datasets/26688/\n",
    "36."
   ]
  },
  {
   "cell_type": "code",
   "execution_count": 17,
   "metadata": {},
   "outputs": [],
   "source": [
    "#TODO: Finish"
   ]
  },
  {
   "cell_type": "markdown",
   "metadata": {},
   "source": [
    "### Problem 5: Final project proposal.\n",
    "Recall: the final project presentations will be on the last day of class, Saturday Dec 14th 1-5pm.\n",
    "Final Project presentations are on Dec 14th in class. Final project reports due December 15th\n",
    "midnight. Presentation duration: 10 minute presentations plus questions. The last problem of\n",
    "this homework is to write your project proposal (1-2 pages). Please include team members, what\n",
    "dataset you plan to use, what questions you plan to ask. Some preliminary results that show you\n",
    "have started experimenting with the data and show promise. One interesting direction is you plan\n",
    "to combine different datasets or search for dataset search engines for numerous resources. You will\n",
    "be graded on the project proposal."
   ]
  },
  {
   "cell_type": "code",
   "execution_count": 19,
   "metadata": {},
   "outputs": [],
   "source": [
    "#TODO: Finish"
   ]
  },
  {
   "cell_type": "code",
   "execution_count": null,
   "metadata": {},
   "outputs": [],
   "source": []
  }
 ],
 "metadata": {
  "kernelspec": {
   "display_name": "Python 3",
   "language": "python",
   "name": "python3"
  },
  "language_info": {
   "codemirror_mode": {
    "name": "ipython",
    "version": 3
   },
   "file_extension": ".py",
   "mimetype": "text/x-python",
   "name": "python",
   "nbconvert_exporter": "python",
   "pygments_lexer": "ipython3",
   "version": "3.6.8"
  }
 },
 "nbformat": 4,
 "nbformat_minor": 2
}
